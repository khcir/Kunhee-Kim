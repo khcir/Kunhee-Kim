{
 "cells": [
  {
   "cell_type": "markdown",
   "metadata": {},
   "source": [
    "\n",
    "\n",
    "![data-x](https://raw.githubusercontent.com/afo/data-x-plaksha/master/imgsource/dx_logo.png)\n"
   ]
  },
  {
   "cell_type": "markdown",
   "metadata": {},
   "source": [
    "___\n",
    "\n",
    "#### NAME: Kunhee Kim\n",
    "\n",
    "#### STUDENT ID: 3036181095\n",
    "___"
   ]
  },
  {
   "cell_type": "markdown",
   "metadata": {},
   "source": [
    "## Module 500 NLP Module: Text Processing\n",
    "### Sentiment Analysis on Lululemon reviews\n"
   ]
  },
  {
   "cell_type": "code",
   "execution_count": 25,
   "metadata": {},
   "outputs": [],
   "source": [
    "#make compatible with Python 2 and Python 3\n",
    "from __future__ import print_function, division, absolute_import\n",
    "\n",
    "# Remove warnings\n",
    "import warnings\n",
    "warnings.filterwarnings('ignore')\n",
    "\n",
    "# plotting\n",
    "import matplotlib.pyplot as plt\n",
    "%matplotlib inline"
   ]
  },
  {
   "cell_type": "markdown",
   "metadata": {},
   "source": [
    "___\n",
    "\n",
    "#### About \n",
    "\n",
    "As you go through the notebook, you will encounter these main steps in the code: \n",
    "1. Reading of file `lululemon_website_reviews_v1.csv` \n",
    "2. A function `review_cleaner(review)` which cleans the reviews in the input file.<br>\n",
    "3. Using VADER to analyze the sentiment\n",
    "4. Analyze sentiment\n",
    "___"
   ]
  },
  {
   "cell_type": "markdown",
   "metadata": {},
   "source": [
    "\n",
    "#### Data description\n",
    ">Data source: https://shop.lululemon.com/<br>"
   ]
  },
  {
   "cell_type": "markdown",
   "metadata": {},
   "source": [
    "<br>\n",
    "\n",
    "___\n",
    "\n",
    "## Data Statistics\n"
   ]
  },
  {
   "cell_type": "code",
   "execution_count": 2,
   "metadata": {},
   "outputs": [
    {
     "name": "stderr",
     "output_type": "stream",
     "text": [
      "[nltk_data] Downloading package averaged_perceptron_tagger to\n",
      "[nltk_data]     /Users/konijjang/nltk_data...\n",
      "[nltk_data]   Package averaged_perceptron_tagger is already up-to-\n",
      "[nltk_data]       date!\n",
      "[nltk_data] Downloading package wordnet to\n",
      "[nltk_data]     /Users/konijjang/nltk_data...\n",
      "[nltk_data]   Package wordnet is already up-to-date!\n",
      "[nltk_data] Downloading package stopwords to\n",
      "[nltk_data]     /Users/konijjang/nltk_data...\n",
      "[nltk_data]   Package stopwords is already up-to-date!\n",
      "[nltk_data] Downloading package punkt to /Users/konijjang/nltk_data...\n",
      "[nltk_data]   Package punkt is already up-to-date!\n"
     ]
    }
   ],
   "source": [
    "# regular expressions, text parsing, and ML classifiers\n",
    "import re\n",
    "import nltk\n",
    "import bs4 as bs\n",
    "import numpy as np\n",
    "import pandas as pd\n",
    " \n",
    "\n",
    "# download NLTK classifiers\n",
    "nltk.download('averaged_perceptron_tagger')\n",
    "nltk.download('wordnet')\n",
    "nltk.download('stopwords')\n",
    "nltk.download('punkt')\n",
    "\n",
    "# import ml classifiers\n",
    "from nltk.tokenize import sent_tokenize # tokenizes sentences\n",
    "from nltk.stem import PorterStemmer     # parsing/stemmer\n",
    "from nltk.tag import pos_tag            # parts-of-speech tagging\n",
    "from nltk.corpus import wordnet         # sentiment scores\n",
    "from nltk.stem import WordNetLemmatizer # stem and context\n",
    "from nltk.corpus import stopwords       # stopwords\n",
    "from nltk.util import ngrams            # ngram iterator\n",
    "\n",
    "eng_stopwords = stopwords.words('english')"
   ]
  },
  {
   "cell_type": "markdown",
   "metadata": {},
   "source": [
    "<br>\n",
    "\n",
    "**Load Data**"
   ]
  },
  {
   "cell_type": "code",
   "execution_count": 6,
   "metadata": {},
   "outputs": [
    {
     "data": {
      "text/html": [
       "<div>\n",
       "<style scoped>\n",
       "    .dataframe tbody tr th:only-of-type {\n",
       "        vertical-align: middle;\n",
       "    }\n",
       "\n",
       "    .dataframe tbody tr th {\n",
       "        vertical-align: top;\n",
       "    }\n",
       "\n",
       "    .dataframe thead th {\n",
       "        text-align: right;\n",
       "    }\n",
       "</style>\n",
       "<table border=\"1\" class=\"dataframe\">\n",
       "  <thead>\n",
       "    <tr style=\"text-align: right;\">\n",
       "      <th></th>\n",
       "      <th>Unnamed: 0</th>\n",
       "      <th>title</th>\n",
       "      <th>review</th>\n",
       "      <th>product</th>\n",
       "    </tr>\n",
       "  </thead>\n",
       "  <tbody>\n",
       "    <tr>\n",
       "      <th>0</th>\n",
       "      <td>0</td>\n",
       "      <td>Perfect for Alaska living</td>\n",
       "      <td>I love my align leggings, but needed somethin...</td>\n",
       "      <td>Base Pace High-Rise Tight 28\" Brushed</td>\n",
       "    </tr>\n",
       "    <tr>\n",
       "      <th>1</th>\n",
       "      <td>1</td>\n",
       "      <td>Always have such high hopes for tights an...</td>\n",
       "      <td>Alas, another pair of tights that pill. It is...</td>\n",
       "      <td>Base Pace High-Rise Tight 28\" Brushed</td>\n",
       "    </tr>\n",
       "    <tr>\n",
       "      <th>2</th>\n",
       "      <td>3</td>\n",
       "      <td>Vest</td>\n",
       "      <td>Love the side pockets and new color. Great fi...</td>\n",
       "      <td>Down for It All Vest</td>\n",
       "    </tr>\n",
       "    <tr>\n",
       "      <th>3</th>\n",
       "      <td>4</td>\n",
       "      <td>Light Vest</td>\n",
       "      <td>Very light weight vest. Love the green color....</td>\n",
       "      <td>Down for It All Vest</td>\n",
       "    </tr>\n",
       "    <tr>\n",
       "      <th>4</th>\n",
       "      <td>5</td>\n",
       "      <td>Runs small</td>\n",
       "      <td>When I order or buy something the is “fit” I ...</td>\n",
       "      <td>Down for It All Vest</td>\n",
       "    </tr>\n",
       "  </tbody>\n",
       "</table>\n",
       "</div>"
      ],
      "text/plain": [
       "   Unnamed: 0                                              title  \\\n",
       "0           0                      Perfect for Alaska living       \n",
       "1           1       Always have such high hopes for tights an...   \n",
       "2           3                                           Vest       \n",
       "3           4                                     Light Vest       \n",
       "4           5                                     Runs small       \n",
       "\n",
       "                                              review  \\\n",
       "0   I love my align leggings, but needed somethin...   \n",
       "1   Alas, another pair of tights that pill. It is...   \n",
       "2   Love the side pockets and new color. Great fi...   \n",
       "3   Very light weight vest. Love the green color....   \n",
       "4   When I order or buy something the is “fit” I ...   \n",
       "\n",
       "                                 product  \n",
       "0  Base Pace High-Rise Tight 28\" Brushed  \n",
       "1  Base Pace High-Rise Tight 28\" Brushed  \n",
       "2                   Down for It All Vest  \n",
       "3                   Down for It All Vest  \n",
       "4                   Down for It All Vest  "
      ]
     },
     "execution_count": 6,
     "metadata": {},
     "output_type": "execute_result"
    }
   ],
   "source": [
    "lululemon_data = pd.read_csv(\"/Users/konijjang/Desktop/INDENG 135/lululemon_website_reviews_v1.csv\")\n",
    "lululemon_data.head()"
   ]
  },
  {
   "cell_type": "code",
   "execution_count": 8,
   "metadata": {},
   "outputs": [
    {
     "data": {
      "text/plain": [
       "(1938, 4)"
      ]
     },
     "execution_count": 8,
     "metadata": {},
     "output_type": "execute_result"
    }
   ],
   "source": [
    "lululemon_data.shape"
   ]
  },
  {
   "cell_type": "code",
   "execution_count": 9,
   "metadata": {},
   "outputs": [
    {
     "name": "stdout",
     "output_type": "stream",
     "text": [
      "Average character length of the reviews are:\n",
      "213.7296181630547\n"
     ]
    }
   ],
   "source": [
    "print('Average character length of the reviews are:')\n",
    "lengths= lululemon_data['review'].apply(len)\n",
    "print(np.mean(lengths))"
   ]
  },
  {
   "cell_type": "markdown",
   "metadata": {},
   "source": [
    "<br>\n",
    "\n",
    "___\n",
    "\n",
    "\n",
    "## Preparing data for classification\n",
    "\n"
   ]
  },
  {
   "cell_type": "markdown",
   "metadata": {},
   "source": [
    "We'll use the function `review_cleaner` to read in reviews and:\n",
    "\n",
    "> - Removes HTML tags (using beautifulsoup)\n",
    "> - Extract emoticons (emotion symbols, aka smileys :D )\n",
    "> - Removes non-letters (using regular expression)\n",
    "> - Converts all words to lowercase letters and tokenizes them (using .split() method on the review strings, so that every word in the review is an element in a list)\n",
    "> - Removes all the English stopwords from the list of movie review words\n",
    "> - Join the words back into one string seperated by space, append the emoticons to the end\n",
    "\n",
    "<br>\n",
    "\n",
    "**Pro Tip:** Transform the list of stopwords to a set before removing the stopwords -- i.e. assign `eng_stopwords = set(stopwords.words(\"english\"))`. Use the set to look up stopwords. This will substantially speed up the computations (Python is much quicker when searching a set than a list).\n",
    "\n",
    "<br>"
   ]
  },
  {
   "cell_type": "code",
   "execution_count": 10,
   "metadata": {},
   "outputs": [],
   "source": [
    "from nltk.tokenize import sent_tokenize\n",
    "import re\n",
    "\n",
    "def review_cleaner(review):\n",
    "    '''\n",
    "        Clean and preprocess a review.\n",
    "            1. Remove HTML tags\n",
    "            2. Extract emoticons\n",
    "            3. Use regex to remove all special characters (only keep letters)\n",
    "            4. Make strings to lower case and tokenize / word split reviews\n",
    "            5. Remove English stopwords\n",
    "            6. Rejoin to one string\n",
    "        \n",
    "        @review (type:str) is an unprocessed review string\n",
    "        @return (type:str) is a 6-step preprocessed review string\n",
    "    '''\n",
    "    \n",
    "    #1. Remove HTML tags\n",
    "    review = bs.BeautifulSoup(review).text\n",
    "    \n",
    "    #2. Use regex to find emoticons\n",
    "    emoticons = re.findall('(?::|;|=)(?:-)?(?:\\)|\\(|D|P)', review)\n",
    "    \n",
    "    #3. Remove punctuation\n",
    "    review = re.sub(\"[^a-zA-Z]\", \" \",review)\n",
    "    \n",
    "    #4. Tokenize into words (all lower case)\n",
    "    review = review.lower().split()\n",
    "    \n",
    "    #5. Remove stopwords\n",
    "    eng_stopwords = set(stopwords.words(\"english\"))\n",
    "    review = [w for w in review if not w in eng_stopwords]\n",
    "    \n",
    "    #6. Join the review to one sentence\n",
    "    review = ' '.join(review+emoticons)\n",
    "    # add emoticons to the end\n",
    "\n",
    "    return(review)"
   ]
  },
  {
   "cell_type": "code",
   "execution_count": 11,
   "metadata": {},
   "outputs": [],
   "source": [
    "lululemon_data['cleaned_text'] = lululemon_data['review'].apply(review_cleaner)"
   ]
  },
  {
   "cell_type": "code",
   "execution_count": 12,
   "metadata": {},
   "outputs": [
    {
     "data": {
      "text/html": [
       "<div>\n",
       "<style scoped>\n",
       "    .dataframe tbody tr th:only-of-type {\n",
       "        vertical-align: middle;\n",
       "    }\n",
       "\n",
       "    .dataframe tbody tr th {\n",
       "        vertical-align: top;\n",
       "    }\n",
       "\n",
       "    .dataframe thead th {\n",
       "        text-align: right;\n",
       "    }\n",
       "</style>\n",
       "<table border=\"1\" class=\"dataframe\">\n",
       "  <thead>\n",
       "    <tr style=\"text-align: right;\">\n",
       "      <th></th>\n",
       "      <th>Unnamed: 0</th>\n",
       "      <th>title</th>\n",
       "      <th>review</th>\n",
       "      <th>product</th>\n",
       "      <th>cleaned_text</th>\n",
       "    </tr>\n",
       "  </thead>\n",
       "  <tbody>\n",
       "    <tr>\n",
       "      <th>0</th>\n",
       "      <td>0</td>\n",
       "      <td>Perfect for Alaska living</td>\n",
       "      <td>I love my align leggings, but needed somethin...</td>\n",
       "      <td>Base Pace High-Rise Tight 28\" Brushed</td>\n",
       "      <td>love align leggings needed something warmer te...</td>\n",
       "    </tr>\n",
       "    <tr>\n",
       "      <th>1</th>\n",
       "      <td>1</td>\n",
       "      <td>Always have such high hopes for tights an...</td>\n",
       "      <td>Alas, another pair of tights that pill. It is...</td>\n",
       "      <td>Base Pace High-Rise Tight 28\" Brushed</td>\n",
       "      <td>alas another pair tights pill disappointing lo...</td>\n",
       "    </tr>\n",
       "    <tr>\n",
       "      <th>2</th>\n",
       "      <td>3</td>\n",
       "      <td>Vest</td>\n",
       "      <td>Love the side pockets and new color. Great fi...</td>\n",
       "      <td>Down for It All Vest</td>\n",
       "      <td>love side pockets new color great fit staple t...</td>\n",
       "    </tr>\n",
       "    <tr>\n",
       "      <th>3</th>\n",
       "      <td>4</td>\n",
       "      <td>Light Vest</td>\n",
       "      <td>Very light weight vest. Love the green color....</td>\n",
       "      <td>Down for It All Vest</td>\n",
       "      <td>light weight vest love green color fits true size</td>\n",
       "    </tr>\n",
       "    <tr>\n",
       "      <th>4</th>\n",
       "      <td>5</td>\n",
       "      <td>Runs small</td>\n",
       "      <td>When I order or buy something the is “fit” I ...</td>\n",
       "      <td>Down for It All Vest</td>\n",
       "      <td>order buy something fit usually go size bigger...</td>\n",
       "    </tr>\n",
       "  </tbody>\n",
       "</table>\n",
       "</div>"
      ],
      "text/plain": [
       "   Unnamed: 0                                              title  \\\n",
       "0           0                      Perfect for Alaska living       \n",
       "1           1       Always have such high hopes for tights an...   \n",
       "2           3                                           Vest       \n",
       "3           4                                     Light Vest       \n",
       "4           5                                     Runs small       \n",
       "\n",
       "                                              review  \\\n",
       "0   I love my align leggings, but needed somethin...   \n",
       "1   Alas, another pair of tights that pill. It is...   \n",
       "2   Love the side pockets and new color. Great fi...   \n",
       "3   Very light weight vest. Love the green color....   \n",
       "4   When I order or buy something the is “fit” I ...   \n",
       "\n",
       "                                 product  \\\n",
       "0  Base Pace High-Rise Tight 28\" Brushed   \n",
       "1  Base Pace High-Rise Tight 28\" Brushed   \n",
       "2                   Down for It All Vest   \n",
       "3                   Down for It All Vest   \n",
       "4                   Down for It All Vest   \n",
       "\n",
       "                                        cleaned_text  \n",
       "0  love align leggings needed something warmer te...  \n",
       "1  alas another pair tights pill disappointing lo...  \n",
       "2  love side pockets new color great fit staple t...  \n",
       "3  light weight vest love green color fits true size  \n",
       "4  order buy something fit usually go size bigger...  "
      ]
     },
     "execution_count": 12,
     "metadata": {},
     "output_type": "execute_result"
    }
   ],
   "source": [
    "lululemon_data.head()"
   ]
  },
  {
   "cell_type": "code",
   "execution_count": 13,
   "metadata": {},
   "outputs": [
    {
     "data": {
      "text/plain": [
       "'light weight vest love green color fits true size'"
      ]
     },
     "execution_count": 13,
     "metadata": {},
     "output_type": "execute_result"
    }
   ],
   "source": [
    "lululemon_data['cleaned_text'][3]"
   ]
  },
  {
   "cell_type": "markdown",
   "metadata": {},
   "source": [
    "<br>\n",
    "\n",
    "___\n",
    "\n",
    "\n",
    "## Using VADER to analyze the sentiment\n",
    "\n"
   ]
  },
  {
   "cell_type": "code",
   "execution_count": 14,
   "metadata": {},
   "outputs": [
    {
     "name": "stdout",
     "output_type": "stream",
     "text": [
      "Requirement already satisfied: vaderSentiment in /opt/anaconda3/lib/python3.8/site-packages (3.3.2)\r\n",
      "Requirement already satisfied: requests in /opt/anaconda3/lib/python3.8/site-packages (from vaderSentiment) (2.25.1)\r\n",
      "Requirement already satisfied: chardet<5,>=3.0.2 in /opt/anaconda3/lib/python3.8/site-packages (from requests->vaderSentiment) (4.0.0)\r\n",
      "Requirement already satisfied: idna<3,>=2.5 in /opt/anaconda3/lib/python3.8/site-packages (from requests->vaderSentiment) (2.10)\r\n",
      "Requirement already satisfied: urllib3<1.27,>=1.21.1 in /opt/anaconda3/lib/python3.8/site-packages (from requests->vaderSentiment) (1.26.4)\r\n",
      "Requirement already satisfied: certifi>=2017.4.17 in /opt/anaconda3/lib/python3.8/site-packages (from requests->vaderSentiment) (2020.12.5)\r\n"
     ]
    }
   ],
   "source": [
    "! pip install vaderSentiment"
   ]
  },
  {
   "cell_type": "code",
   "execution_count": 15,
   "metadata": {},
   "outputs": [],
   "source": [
    "from vaderSentiment.vaderSentiment import SentimentIntensityAnalyzer"
   ]
  },
  {
   "cell_type": "code",
   "execution_count": 16,
   "metadata": {},
   "outputs": [],
   "source": [
    "obj = SentimentIntensityAnalyzer()"
   ]
  },
  {
   "cell_type": "code",
   "execution_count": 17,
   "metadata": {},
   "outputs": [],
   "source": [
    "def predict_sentiment(sentence):\n",
    "    return obj.polarity_scores(sentence)"
   ]
  },
  {
   "cell_type": "code",
   "execution_count": 18,
   "metadata": {},
   "outputs": [],
   "source": [
    "lululemon_data['polarity_score'] = lululemon_data['cleaned_text'].apply(predict_sentiment)"
   ]
  },
  {
   "cell_type": "code",
   "execution_count": 20,
   "metadata": {},
   "outputs": [
    {
     "data": {
      "text/plain": [
       "{'neg': 0.0, 'neu': 0.5, 'pos': 0.5, 'compound': 0.7906}"
      ]
     },
     "execution_count": 20,
     "metadata": {},
     "output_type": "execute_result"
    }
   ],
   "source": [
    "lululemon_data['polarity_score'][3]"
   ]
  },
  {
   "cell_type": "code",
   "execution_count": 21,
   "metadata": {},
   "outputs": [],
   "source": [
    "def extract_compound(dict):\n",
    "    return dict['compound']"
   ]
  },
  {
   "cell_type": "code",
   "execution_count": 23,
   "metadata": {},
   "outputs": [],
   "source": [
    "lululemon_data['compound'] = lululemon_data['polarity_score'].apply(extract_compound)"
   ]
  },
  {
   "cell_type": "code",
   "execution_count": 24,
   "metadata": {},
   "outputs": [
    {
     "data": {
      "text/html": [
       "<div>\n",
       "<style scoped>\n",
       "    .dataframe tbody tr th:only-of-type {\n",
       "        vertical-align: middle;\n",
       "    }\n",
       "\n",
       "    .dataframe tbody tr th {\n",
       "        vertical-align: top;\n",
       "    }\n",
       "\n",
       "    .dataframe thead th {\n",
       "        text-align: right;\n",
       "    }\n",
       "</style>\n",
       "<table border=\"1\" class=\"dataframe\">\n",
       "  <thead>\n",
       "    <tr style=\"text-align: right;\">\n",
       "      <th></th>\n",
       "      <th>Unnamed: 0</th>\n",
       "      <th>title</th>\n",
       "      <th>review</th>\n",
       "      <th>product</th>\n",
       "      <th>cleaned_text</th>\n",
       "      <th>polarity_score</th>\n",
       "      <th>compound</th>\n",
       "    </tr>\n",
       "  </thead>\n",
       "  <tbody>\n",
       "    <tr>\n",
       "      <th>0</th>\n",
       "      <td>0</td>\n",
       "      <td>Perfect for Alaska living</td>\n",
       "      <td>I love my align leggings, but needed somethin...</td>\n",
       "      <td>Base Pace High-Rise Tight 28\" Brushed</td>\n",
       "      <td>love align leggings needed something warmer te...</td>\n",
       "      <td>{'neg': 0.0, 'neu': 0.422, 'pos': 0.578, 'comp...</td>\n",
       "      <td>0.9853</td>\n",
       "    </tr>\n",
       "    <tr>\n",
       "      <th>1</th>\n",
       "      <td>1</td>\n",
       "      <td>Always have such high hopes for tights an...</td>\n",
       "      <td>Alas, another pair of tights that pill. It is...</td>\n",
       "      <td>Base Pace High-Rise Tight 28\" Brushed</td>\n",
       "      <td>alas another pair tights pill disappointing lo...</td>\n",
       "      <td>{'neg': 0.451, 'neu': 0.549, 'pos': 0.0, 'comp...</td>\n",
       "      <td>-0.8020</td>\n",
       "    </tr>\n",
       "    <tr>\n",
       "      <th>2</th>\n",
       "      <td>3</td>\n",
       "      <td>Vest</td>\n",
       "      <td>Love the side pockets and new color. Great fi...</td>\n",
       "      <td>Down for It All Vest</td>\n",
       "      <td>love side pockets new color great fit staple t...</td>\n",
       "      <td>{'neg': 0.0, 'neu': 0.399, 'pos': 0.601, 'comp...</td>\n",
       "      <td>0.9618</td>\n",
       "    </tr>\n",
       "    <tr>\n",
       "      <th>3</th>\n",
       "      <td>4</td>\n",
       "      <td>Light Vest</td>\n",
       "      <td>Very light weight vest. Love the green color....</td>\n",
       "      <td>Down for It All Vest</td>\n",
       "      <td>light weight vest love green color fits true size</td>\n",
       "      <td>{'neg': 0.0, 'neu': 0.5, 'pos': 0.5, 'compound...</td>\n",
       "      <td>0.7906</td>\n",
       "    </tr>\n",
       "    <tr>\n",
       "      <th>4</th>\n",
       "      <td>5</td>\n",
       "      <td>Runs small</td>\n",
       "      <td>When I order or buy something the is “fit” I ...</td>\n",
       "      <td>Down for It All Vest</td>\n",
       "      <td>order buy something fit usually go size bigger...</td>\n",
       "      <td>{'neg': 0.07, 'neu': 0.759, 'pos': 0.172, 'com...</td>\n",
       "      <td>0.4749</td>\n",
       "    </tr>\n",
       "  </tbody>\n",
       "</table>\n",
       "</div>"
      ],
      "text/plain": [
       "   Unnamed: 0                                              title  \\\n",
       "0           0                      Perfect for Alaska living       \n",
       "1           1       Always have such high hopes for tights an...   \n",
       "2           3                                           Vest       \n",
       "3           4                                     Light Vest       \n",
       "4           5                                     Runs small       \n",
       "\n",
       "                                              review  \\\n",
       "0   I love my align leggings, but needed somethin...   \n",
       "1   Alas, another pair of tights that pill. It is...   \n",
       "2   Love the side pockets and new color. Great fi...   \n",
       "3   Very light weight vest. Love the green color....   \n",
       "4   When I order or buy something the is “fit” I ...   \n",
       "\n",
       "                                 product  \\\n",
       "0  Base Pace High-Rise Tight 28\" Brushed   \n",
       "1  Base Pace High-Rise Tight 28\" Brushed   \n",
       "2                   Down for It All Vest   \n",
       "3                   Down for It All Vest   \n",
       "4                   Down for It All Vest   \n",
       "\n",
       "                                        cleaned_text  \\\n",
       "0  love align leggings needed something warmer te...   \n",
       "1  alas another pair tights pill disappointing lo...   \n",
       "2  love side pockets new color great fit staple t...   \n",
       "3  light weight vest love green color fits true size   \n",
       "4  order buy something fit usually go size bigger...   \n",
       "\n",
       "                                      polarity_score  compound  \n",
       "0  {'neg': 0.0, 'neu': 0.422, 'pos': 0.578, 'comp...    0.9853  \n",
       "1  {'neg': 0.451, 'neu': 0.549, 'pos': 0.0, 'comp...   -0.8020  \n",
       "2  {'neg': 0.0, 'neu': 0.399, 'pos': 0.601, 'comp...    0.9618  \n",
       "3  {'neg': 0.0, 'neu': 0.5, 'pos': 0.5, 'compound...    0.7906  \n",
       "4  {'neg': 0.07, 'neu': 0.759, 'pos': 0.172, 'com...    0.4749  "
      ]
     },
     "execution_count": 24,
     "metadata": {},
     "output_type": "execute_result"
    }
   ],
   "source": [
    "lululemon_data.head()"
   ]
  },
  {
   "cell_type": "markdown",
   "metadata": {},
   "source": [
    "<br>\n",
    "\n",
    "___\n",
    "\n",
    "\n",
    "## Using VADER to analyze the sentiment\n",
    "\n"
   ]
  },
  {
   "cell_type": "code",
   "execution_count": 49,
   "metadata": {},
   "outputs": [
    {
     "name": "stdout",
     "output_type": "stream",
     "text": [
      "1760\n",
      "123\n",
      "55\n"
     ]
    }
   ],
   "source": [
    "negative_sentiments = len(lululemon_data[lululemon_data['compound'] >0])\n",
    "positive_sentiments = len(lululemon_data[lululemon_data['compound'] <0])\n",
    "neutral_sentiments = len(lululemon_data[lululemon_data['compound'] ==0])\n",
    "print(negative_sentiments)\n",
    "print(positive_sentiments)\n",
    "print(neutral_sentiments)"
   ]
  },
  {
   "cell_type": "code",
   "execution_count": null,
   "metadata": {},
   "outputs": [],
   "source": []
  }
 ],
 "metadata": {
  "kernelspec": {
   "display_name": "Python 3",
   "language": "python",
   "name": "python3"
  },
  "language_info": {
   "codemirror_mode": {
    "name": "ipython",
    "version": 3
   },
   "file_extension": ".py",
   "mimetype": "text/x-python",
   "name": "python",
   "nbconvert_exporter": "python",
   "pygments_lexer": "ipython3",
   "version": "3.8.8"
  }
 },
 "nbformat": 4,
 "nbformat_minor": 2
}
